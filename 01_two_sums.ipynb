{
 "cells": [
  {
   "cell_type": "code",
   "execution_count": 3,
   "metadata": {},
   "outputs": [],
   "source": [
    "from typing import List"
   ]
  },
  {
   "cell_type": "code",
   "execution_count": 32,
   "metadata": {},
   "outputs": [],
   "source": [
    "class Solution:\n",
    "    def twoSum(self, nums: List[int], target: int) -> List[int]:\n",
    "        nums_sorted = sorted(nums)\n",
    "        for idx1, x in enumerate(nums_sorted):\n",
    "            if idx1 < len(nums):\n",
    "                for idx2, y in enumerate(nums_sorted[(idx1 + 1):]):\n",
    "                    print(idx2, y)\n",
    "                    if x + y == target:\n",
    "                        return [idx1, idx2]\n",
    "\n",
    "    def two_sum(self, nums: List[int], target: int) -> List[int]:\n",
    "        # Create a dictionary to store the complement of each number\n",
    "        complement_map = {}\n",
    "        \n",
    "        # Iterate through the list of numbers\n",
    "        for i, num in enumerate(nums):\n",
    "            # Check if the complement of the current number exists in the map\n",
    "            if num in complement_map:\n",
    "                # Return the indices of the two numbers\n",
    "                return [complement_map[num], i]\n",
    "            \n",
    "            # If the complement doesn't exist, store the current number's complement\n",
    "            complement = target - num\n",
    "            complement_map[complement] = i\n",
    "        \n",
    "        # If no solution is found, return an empty list or raise an exception\n",
    "        return []"
   ]
  },
  {
   "cell_type": "code",
   "execution_count": 33,
   "metadata": {},
   "outputs": [
    {
     "name": "stdout",
     "output_type": "stream",
     "text": [
      "0 2\n"
     ]
    },
    {
     "data": {
      "text/plain": [
       "[0, 0]"
      ]
     },
     "execution_count": 33,
     "metadata": {},
     "output_type": "execute_result"
    }
   ],
   "source": [
    "a = Solution()\n",
    "a.twoSum([1,3,2], target = 3)"
   ]
  },
  {
   "cell_type": "code",
   "execution_count": 35,
   "metadata": {},
   "outputs": [
    {
     "data": {
      "text/plain": [
       "[0, 5]"
      ]
     },
     "execution_count": 35,
     "metadata": {},
     "output_type": "execute_result"
    }
   ],
   "source": [
    "a.two_sum(nums = [1,3,6,8,9,2], target = 3)"
   ]
  },
  {
   "cell_type": "code",
   "execution_count": null,
   "metadata": {},
   "outputs": [],
   "source": []
  }
 ],
 "metadata": {
  "kernelspec": {
   "display_name": "base",
   "language": "python",
   "name": "python3"
  },
  "language_info": {
   "codemirror_mode": {
    "name": "ipython",
    "version": 3
   },
   "file_extension": ".py",
   "mimetype": "text/x-python",
   "name": "python",
   "nbconvert_exporter": "python",
   "pygments_lexer": "ipython3",
   "version": "3.9.16"
  },
  "orig_nbformat": 4
 },
 "nbformat": 4,
 "nbformat_minor": 2
}
